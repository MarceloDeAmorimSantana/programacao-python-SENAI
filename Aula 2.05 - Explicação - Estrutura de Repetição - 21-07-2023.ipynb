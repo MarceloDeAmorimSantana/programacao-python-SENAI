{
 "cells": [
  {
   "cell_type": "code",
   "execution_count": 6,
   "id": "dfeb2bce",
   "metadata": {},
   "outputs": [
    {
     "name": "stdout",
     "output_type": "stream",
     "text": [
      "abacate\n",
      "pera\n",
      "abacaxi\n",
      "Após isso, finaliza o FOR\n",
      "\n",
      "\n",
      " >>>>> Fim do FOR - Este está fora do laço de repetição\n"
     ]
    }
   ],
   "source": [
    "# Exemplo 01 - For simples\n",
    "frutas = ['abacate','pera','abacaxi','Após isso, finaliza o FOR'] # Lista\n",
    "\n",
    "for n in frutas:\n",
    "    print (n)\n",
    "    \n",
    "print('\\n\\n >>>>> Fim do FOR - Este está fora do laço de repetição')\n"
   ]
  },
  {
   "cell_type": "code",
   "execution_count": 10,
   "id": "42d8cb00",
   "metadata": {},
   "outputs": [
    {
     "name": "stdout",
     "output_type": "stream",
     "text": [
      "Fim do FOR\n"
     ]
    }
   ],
   "source": [
    "# Exemplo 02 - For condicional\n",
    "frutas = ['abacate','pera','abacaxi']\n",
    "\n",
    "for n in frutas:\n",
    "    if n.startswith ('b'):\n",
    "        print (n)\n",
    "        \n",
    "print ('Fim do FOR')\n"
   ]
  }
 ],
 "metadata": {
  "kernelspec": {
   "display_name": "Python 3 (ipykernel)",
   "language": "python",
   "name": "python3"
  },
  "language_info": {
   "codemirror_mode": {
    "name": "ipython",
    "version": 3
   },
   "file_extension": ".py",
   "mimetype": "text/x-python",
   "name": "python",
   "nbconvert_exporter": "python",
   "pygments_lexer": "ipython3",
   "version": "3.10.9"
  }
 },
 "nbformat": 4,
 "nbformat_minor": 5
}
