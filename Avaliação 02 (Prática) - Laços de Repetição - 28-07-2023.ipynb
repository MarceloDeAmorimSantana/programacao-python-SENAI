{
 "cells": [
  {
   "cell_type": "code",
   "execution_count": null,
   "id": "d1a2c757",
   "metadata": {},
   "outputs": [],
   "source": [
    "# Questão 01 -  Escreva um programa que exiba os números de 1 a 10 em ordem crescente.\n",
    "\n",
    "#----------------------------------For\n",
    "numeros = range(0,10)\n",
    "\n",
    "for x in numeros:\n",
    "    print(x+1)\n",
    "\n",
    "    \n",
    "#----------------------------------While\n",
    "# i = 0\n",
    "# while i <= 9:\n",
    "#    i = i + 1\n",
    "#    print(i)\n"
   ]
  },
  {
   "cell_type": "code",
   "execution_count": null,
   "id": "c865edf8",
   "metadata": {},
   "outputs": [],
   "source": [
    "# Questão 02 -  Escreva um programa que calcule a média de uma lista de números.\n",
    "# A lista deve conter pelo menos 5 números.\n",
    "\n",
    "numeros = [10, 20, 30, 40, 50]\n",
    "soma = 0\n",
    "media = 0\n",
    "\n",
    "for x in numeros:\n",
    "    soma = soma + x\n",
    "    \n",
    "media = soma / len(numeros)\n",
    "\n",
    "print(f\"Média = {media}\")\n",
    "    "
   ]
  },
  {
   "cell_type": "code",
   "execution_count": null,
   "id": "4b7f4e52",
   "metadata": {},
   "outputs": [],
   "source": [
    "# Questão 03 - Escreva um programa que gere a sequência de Fibonacci até o décimo termo.\n",
    "# A sequência de Fibonacci é formada pela soma dos dois termos anteriores, começando com 0 e 1.\n",
    "# A sequência fica assim: 0, 1, 1, 2, 3, 5, 8, 13, 21, 34...\n",
    "\n",
    "\n",
    "decimo = 10\n",
    "serieFibonacci=[0]\n",
    "i = 0\n",
    "\n",
    "while i <= decimo:\n",
    "    \n",
    "    if len(serieFibonacci) == 10:\n",
    "        break\n",
    "        \n",
    "    if i == 0 and serieFibonacci[i] == 0  :\n",
    "        serieFibonacci.append(1)\n",
    "    else:\n",
    "        a = serieFibonacci[i] + serieFibonacci[i-1]\n",
    "        serieFibonacci.append(a)\n",
    "\n",
    "    i = i + 1\n",
    "\n",
    "serieFibonacci\n",
    "\n",
    "\n"
   ]
  },
  {
   "cell_type": "code",
   "execution_count": 4,
   "id": "1f3682c5",
   "metadata": {},
   "outputs": [
    {
     "name": "stdout",
     "output_type": "stream",
     "text": [
      "Digite um Nº inteiro positivo -> 6\n",
      "\n",
      "A soma de todos os números de 1 à 6 é = [ 21 ]\n",
      "21\n"
     ]
    }
   ],
   "source": [
    "#Questão 04 -  Escreva um programa que leia um número inteiro positivo n do usuário\n",
    "# e exiba a soma de todos os números de 1 até n.\n",
    "\n",
    "n = int(input(\"Digite um Nº inteiro positivo -> \"))\n",
    "\n",
    "while n <= 0:\n",
    "    print(f\"O número [{n}] é inválido!\")\n",
    "    n = int(input(\"\\nDigite um Nº inteiro positivo -> \"))\n",
    "\n",
    "numeros = range(0,n)\n",
    "soma = 0\n",
    "\n",
    "for x in numeros:\n",
    "    soma = soma + x+1\n",
    "\n",
    "print(f\"\\nA soma de todos os números de 1 à {n} é = [ {soma} ]\")\n",
    "\n",
    "\n",
    "#-------------------\n",
    "i = 0\n",
    "soma = 0\n",
    "\n",
    "while i <= n:\n",
    "    soma += i\n",
    "    i += 1\n",
    "\n",
    "print(soma)\n",
    "\n"
   ]
  },
  {
   "cell_type": "code",
   "execution_count": 11,
   "id": "25120219",
   "metadata": {},
   "outputs": [
    {
     "name": "stdout",
     "output_type": "stream",
     "text": [
      "*** Digite [Nº + ENTER] para cadastrar  OU  [F] para finalizar ***\n",
      "\n",
      "\n",
      "        Digite o 1º número → 1\n",
      "        Digite o 2º número → 2\n",
      "        Digite o 3º número → 3\n",
      "        Digite o 4º número → 4\n",
      "        Digite o 5º número → 5\n",
      "        Digite o 6º número → 6\n",
      "        Digite o 7º número → 7\n",
      "        Digite o 8º número → 8\n",
      "        Digite o 9º número → f\n",
      "\n",
      " Você digitou 4 número(s) pares.\n",
      " São eles ->  [2, 4, 6, 8]\n"
     ]
    }
   ],
   "source": [
    "# Questão 05 - Escreva um programa que receba uma lista de números do usuário\n",
    "# e exiba apenas os números pares presentes na lista e sua respectiva quantidade.\n",
    "\n",
    "print (\"*** Digite [Nº + ENTER] para cadastrar  OU  [F] para finalizar ***\")\n",
    "print('\\n')  \n",
    "\n",
    "i = 1                 \n",
    "listaNumeros = []     \n",
    "QtdePares = []\n",
    "\n",
    "while i != 0:\n",
    "    digitacao = input(\"        Digite o \" + str(i) + \"º número → \")\n",
    "    digitacao = digitacao.upper()\n",
    "    \n",
    "    if digitacao == \"F\" or digitacao == \"f\":\n",
    "        break   \n",
    "        print('\\n'+'Fim dos cadastros!')\n",
    "    else:\n",
    "        if int(digitacao) % 2 == 0:\n",
    "            QtdePares.append(int(digitacao))\n",
    "            listaNumeros.append(int(digitacao))\n",
    "    \n",
    "    i = i + 1\n",
    "    \n",
    "print('\\n Você digitou',len(listaNumeros),'número(s) pares.\\n São eles -> ',listaNumeros) \n",
    "\n",
    "\n",
    "\n",
    "\n"
   ]
  },
  {
   "cell_type": "code",
   "execution_count": null,
   "id": "d771be77",
   "metadata": {},
   "outputs": [],
   "source": [
    "# Questão 06 -  Escreva um programa que leia uma lista de números do usuário e determine\n",
    "# a soma, média, o maior valor e o menor valor da lista.\n",
    "\n",
    "resp = input('Digite um valor, ou [S] para sair ')\n",
    "lista = []\n",
    "\n",
    "while resp.lower() != 's':\n",
    "    lista.append(int(resp))\n",
    "    resp = input('Digite um valor, ou [S] para sair ')\n",
    "    \n",
    "soma = sum(lista)\n",
    "media = soma/len(lista)\n",
    "maximo = max(lista)\n",
    "minimo = min(lista)\n",
    "\n",
    "print(f'A soma é {soma}, a média é {media},\\n o maior valor {maximo}, menor valor {minimo} ')\n",
    "\n"
   ]
  }
 ],
 "metadata": {
  "kernelspec": {
   "display_name": "Python 3 (ipykernel)",
   "language": "python",
   "name": "python3"
  },
  "language_info": {
   "codemirror_mode": {
    "name": "ipython",
    "version": 3
   },
   "file_extension": ".py",
   "mimetype": "text/x-python",
   "name": "python",
   "nbconvert_exporter": "python",
   "pygments_lexer": "ipython3",
   "version": "3.10.9"
  }
 },
 "nbformat": 4,
 "nbformat_minor": 5
}
