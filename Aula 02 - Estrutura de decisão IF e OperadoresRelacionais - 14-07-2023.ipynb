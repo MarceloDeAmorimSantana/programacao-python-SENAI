{
 "cells": [
  {
   "cell_type": "code",
   "execution_count": 7,
   "id": "18def572",
   "metadata": {},
   "outputs": [
    {
     "name": "stdout",
     "output_type": "stream",
     "text": [
      "Digite a sua idade -> 20\n",
      "Maior de idade\n"
     ]
    }
   ],
   "source": [
    "# Exercício 01 – Crie uma variável chamada \"idade\" e atribua um valor inteiro a ela.\n",
    "# Verifique se a idade é maior ou igual a 18 e imprima \"Maior de idade\" ou \"Menor de idade\"\n",
    "# de acordo com a condição.\n",
    "\n",
    "idade = int(input('Digite a sua idade -> '))\n",
    "\n",
    "if idade >= 18:\n",
    "    print('Maior de idade')\n",
    "else:\n",
    "    print('Menor de idade')\n",
    "\n"
   ]
  },
  {
   "cell_type": "code",
   "execution_count": 9,
   "id": "eabc845f",
   "metadata": {},
   "outputs": [
    {
     "name": "stdout",
     "output_type": "stream",
     "text": [
      "Digite um número -> -8\n",
      "\n",
      " O número [ -8 ] é negativo!\n"
     ]
    }
   ],
   "source": [
    "# Exercício 02 - Crie uma variável chamada \"número\" e atribua um valor inteiro a ela.\n",
    "# Verifique se o número é positivo, negativo ou zero e imprima a mensagem correspondente.\n",
    "\n",
    "numero = int(input('Digite um número -> '))\n",
    "\n",
    "if numero == 0:\n",
    "    print('\\n O número [',numero,'] é zero \"neutro\"!')\n",
    "elif numero < 0:\n",
    "    print('\\n O número [',numero,'] é negativo!')\n",
    "else:    \n",
    "    print('\\n O número [',numero,'] é positivo!')\n",
    "    \n",
    "    "
   ]
  },
  {
   "cell_type": "code",
   "execution_count": 11,
   "id": "2d3f89c2",
   "metadata": {},
   "outputs": [
    {
     "name": "stdout",
     "output_type": "stream",
     "text": [
      "\n",
      " Digite o 1º número -> 5\n",
      "\n",
      " Digite o 2º número -> 2\n",
      "\n",
      " A sua média foi [ 3.5 ], portanto você foi reprovado!\n"
     ]
    }
   ],
   "source": [
    "# Exercício 03 - Crie duas variáveis, \"nota1\" e \"nota2\",\n",
    "# e atribua valores numéricos a elas.Verifique se a média das\n",
    "# notas é maior ou igual a 7 e imprima \"Aprovado\" ou \"Reprovado\" de acordo com a condição.\n",
    "\n",
    "nota1 = float(input('\\n Digite o 1º número -> '))\n",
    "nota2 = float(input('\\n Digite o 2º número -> '))\n",
    "\n",
    "media = ( nota1 + nota2 ) / 2\n",
    "\n",
    "if media >= 7: \n",
    "    print('\\n A sua média foi [',media,'], portanto você foi aprovado!')\n",
    "else:\n",
    "    print('\\n A sua média foi [',media,'], portanto você foi reprovado!')\n",
    "\n"
   ]
  },
  {
   "cell_type": "code",
   "execution_count": 21,
   "id": "60fcc276",
   "metadata": {},
   "outputs": [
    {
     "name": "stdout",
     "output_type": "stream",
     "text": [
      "Digite a sua idade -> 19\n",
      "Idade válida!\n"
     ]
    }
   ],
   "source": [
    "# Exercício 04 - Crie uma variável chamada \"idade\" e atribua um valor inteiro a ela.\n",
    "# Verifique se a idade está dentro do intervalo de 18 a 30 (inclusive) e imprima a mensagem\n",
    "# \"Idade válida\" ou \"Idade inválida\" de acordo com a condição.\n",
    "\n",
    "idade = int(input('Digite a sua idade -> '))\n",
    "\n",
    "if idade >=18 and idade <=30:\n",
    "    print('Idade válida!')\n",
    "else:\n",
    "    print('Idade inválida!')\n",
    "    \n",
    "\n",
    "\n",
    "\n"
   ]
  },
  {
   "cell_type": "code",
   "execution_count": 25,
   "id": "e03f9569",
   "metadata": {},
   "outputs": [
    {
     "name": "stdout",
     "output_type": "stream",
     "text": [
      "Digite um Nº inteiro -> 5\n",
      "\n",
      " O Nº [ 5 ] é impar!\n"
     ]
    }
   ],
   "source": [
    "# Exercício 05 - Crie uma variável chamada \"numero\" e atribua um valor inteiro a ela.\n",
    "# Verifique se o número é par ou ímpar e imprima a mensagem correspondente.\n",
    "\n",
    "numero = int(input('Digite um Nº inteiro -> '))\n",
    "\n",
    "if numero % 2 == 0:\n",
    "    print('\\n O número [',numero,'] é par!' )\n",
    "else:\n",
    "    print('\\n O número [',numero,'] é impar!' )\n"
   ]
  },
  {
   "cell_type": "code",
   "execution_count": 64,
   "id": "ffc5c517",
   "metadata": {},
   "outputs": [
    {
     "name": "stdout",
     "output_type": "stream",
     "text": [
      "\n",
      "Digite a hora (inteiras) -> 6\n",
      "\n",
      "[ 6 hrs ] é do período da MANHÃ!\n"
     ]
    }
   ],
   "source": [
    "# Exercício 06 - Crie uma variável chamada \"horario\" e atribua um valor inteiro\n",
    "# representando a hora do dia (em formato 24 horas).\n",
    "# Verifique se o horário está dentro do período da manhã (das 6h às 12h),\n",
    "# da tarde (das 12h às 18h) ou da noite (das 18h às 23h) e imprima a mensagem correspondente.\n",
    "horario = int(input('\\nDigite a hora (inteiras) -> '))\n",
    "\n",
    "if horario >= 6 and horario < 12:\n",
    "    print('\\n[',horario,'hrs ] é do período da MANHÃ!' )\n",
    "elif horario >= 12 and horario < 18:\n",
    "    print('\\n[',horario,'hrs ] é do período da TARDEDE!' )\n",
    "elif horario >= 18 and horario < 23:\n",
    "    print('\\n[',horario,'hrs ] é do período da NOITE!' )\n",
    "elif horario >= 0 and horario <=5:\n",
    "    print(f'\\n[ {horario} hrs ] é de madrugada!' )     # Utilizou o f e a {variável} p/ concatenar à string\n",
    "else:\n",
    "    print('Horário inválido!')\n"
   ]
  },
  {
   "cell_type": "code",
   "execution_count": 40,
   "id": "b05a462a",
   "metadata": {},
   "outputs": [
    {
     "name": "stdout",
     "output_type": "stream",
     "text": [
      "\n",
      "Digite o peso -> 20\n",
      "É um peso inválido!\n"
     ]
    }
   ],
   "source": [
    "# Exercício 07 - Crie uma variável chamada \"peso\" e atribua um valor numérico a ela.\n",
    "# Verifique se o peso está dentro do intervalo de 50 a 100 (inclusive)\n",
    "# e imprima a mensagem \"Peso válido\" ou \"Peso inválido\" de acordo com a condição.\n",
    "\n",
    "peso = float(input('\\nDigite o peso -> '))\n",
    "\n",
    "if peso >= 50 and peso <= 100:\n",
    "    print('É um peso válido!')\n",
    "else:\n",
    "    print('É um peso inválido!')\n",
    "    \n",
    "    \n",
    "    "
   ]
  },
  {
   "cell_type": "code",
   "execution_count": 46,
   "id": "980cd4fe",
   "metadata": {},
   "outputs": [
    {
     "name": "stdout",
     "output_type": "stream",
     "text": [
      "Digite um Nº inteiro -> 3\n",
      "O Nº [ 3 ] não é múltiplo de 3 nem 5 ao mesmo tempo!\n"
     ]
    }
   ],
   "source": [
    "# Exercício 08 - Crie uma variável chamada \"numero\" e atribua um valor inteiro a ela.\n",
    "# Verifique se o número é múltiplo de 3 e de 5 ao mesmo tempo e imprima a mensagem correspondente.\n",
    "\n",
    "numero = int(input('Digite um Nº inteiro -> '))\n",
    "\n",
    "if numero % 3 == 0 and numero % 5 == 0:\n",
    "    print(f'O Nº [ {numero} ] é múltiplo de 3 e de 5 ao mesmo tempo!')\n",
    "else:\n",
    "    print(f'O Nº [ {numero} ] não é múltiplo de 3 & 5 ao mesmo tempo!')\n"
   ]
  },
  {
   "cell_type": "code",
   "execution_count": 86,
   "id": "c569af19",
   "metadata": {},
   "outputs": [
    {
     "name": "stdout",
     "output_type": "stream",
     "text": [
      "Digite o ano -> 2020\n",
      "O ano 2020 é Bissexto!\n"
     ]
    }
   ],
   "source": [
    "# Exercício 09 - Crie uma variável chamada \"ano\" e atribua um valor inteiro\n",
    "# representando um ano. Verifique se o ano é bissexto\n",
    "# (divisível por 4, mas não por 100, exceto se for divisível por 400)\n",
    "# e imprima a mensagem correspondente.\n",
    "\n",
    "ano = int(input('Digite o ano -> '))\n",
    "\n",
    "if (ano%4 == 0 and ano%100 != 0) or ano%400 != 0:\n",
    "    print(f'O ano {ano} é Bissexto!')\n",
    "else:\n",
    "    print(f'O ano {ano} não é Bissexto!')"
   ]
  },
  {
   "cell_type": "code",
   "execution_count": 59,
   "id": "fc03fa60",
   "metadata": {},
   "outputs": [
    {
     "name": "stdout",
     "output_type": "stream",
     "text": [
      "\n",
      "Digite o salário -> 1500\n",
      "O salario [ 1500.0 ] encontra-se entre 1000 e 2000\n"
     ]
    }
   ],
   "source": [
    "# Exercício 10 - Crie uma variável chamada \"salario\" e atribua um valor numérico a ela.\n",
    "# Verifique se o salário é maior do que 1000 e menor do que 2000 ao mesmo tempo e\n",
    "# imprima a mensagem correspondente.\n",
    "\n",
    "salario = float(input('\\nDigite o salário -> '))\n",
    "\n",
    "if salario > 1000 and salario < 2000:\n",
    "    print(f'O salario [ {salario} ] encontra-se entre 1000 e 2000')\n",
    "else:\n",
    "    print(f'O salario [ {salario} ] não está entre 1000 e 2000')\n",
    "\n"
   ]
  },
  {
   "cell_type": "code",
   "execution_count": 103,
   "id": "47c25e3f",
   "metadata": {},
   "outputs": [
    {
     "name": "stdout",
     "output_type": "stream",
     "text": [
      "\n",
      "Digite o 1º número -> 4\n",
      "\n",
      "Digite o 2º número -> 10\n",
      "\n",
      "O número [ 10.0 ] é o maior!\n"
     ]
    }
   ],
   "source": [
    "# Exercício 11 - Faça um Programa que peça dois números e imprima o maior deles.\n",
    "\n",
    "num1 = float(input('\\nDigite o 1º número -> '))\n",
    "num2 = float(input('\\nDigite o 2º número -> '))\n",
    "\n",
    "if num1 > num2:\n",
    "    print(f'\\nO número [ {num1} ] é o maior!')\n",
    "elif num1 == num2:\n",
    "    print(f'\\nOs números são iguais!')\n",
    "else:    \n",
    "    print(f'\\nO número [ {num2} ] é o maior!')\n",
    "    "
   ]
  },
  {
   "cell_type": "code",
   "execution_count": 75,
   "id": "4a24ad67",
   "metadata": {},
   "outputs": [
    {
     "name": "stdout",
     "output_type": "stream",
     "text": [
      "Digite um número ->-1\n",
      "\n",
      "O número [ -1.0 ] é negativo!\n"
     ]
    }
   ],
   "source": [
    "#Exercício 12 - Faça um Programa que peça um valor e mostre na tela se o valor é positivo ou negativo.\n",
    "\n",
    "numero = float(input('Digite um número ->'))\n",
    "\n",
    "if numero < 0:\n",
    "    print(f'\\nO número [ {numero} ] é negativo!')\n",
    "elif numero == 0:\n",
    "    print(f'\\nO número [ {numero} ] é zero \"neutro\"!')\n",
    "else:\n",
    "    print(f'\\nO número [ {numero} ] é positivo!')"
   ]
  },
  {
   "cell_type": "code",
   "execution_count": 84,
   "id": "0ef57fb3",
   "metadata": {},
   "outputs": [
    {
     "name": "stdout",
     "output_type": "stream",
     "text": [
      "Digite uma letra -> f\n",
      "\n",
      "Você digitou a letra F!\n"
     ]
    }
   ],
   "source": [
    "# Exercício 13 - Faça um Programa que verifique se uma letra digitada é \"F\" ou \"M\".\n",
    "\n",
    "letra = input('Digite uma letra -> ')\n",
    "\n",
    "if letra == \"0\" or letra == \"1\" or letra == \"2\" or letra == \"3\" or letra == \"4\" or letra == \"5\" or letra == \"6\" or letra == \"7\" or letra == \"8\" or letra == \"9\":\n",
    "    print('\\nAtenção!!! Digite uma letra!!!')\n",
    "elif letra == \"f\" or  letra == \"F\":\n",
    "    print('\\nVocê digitou a letra F!')\n",
    "elif letra == \"m\" or  letra == \"M\":\n",
    "    print('\\nVocê digitou a letra M!')\n",
    "else:\n",
    "    print('\\nVocê digitou uma letra diferente de F e M')\n"
   ]
  },
  {
   "cell_type": "code",
   "execution_count": 92,
   "id": "86e0fb4e",
   "metadata": {},
   "outputs": [
    {
     "name": "stdout",
     "output_type": "stream",
     "text": [
      "Digite uma letra -> A\n",
      "\n",
      "A letra digitada é uma VOGAL\n"
     ]
    }
   ],
   "source": [
    "# Exercício 14 - Faça um Programa que verifique se uma letra digitada é vogal ou consoante.\n",
    "letra = input('Digite uma letra -> ')\n",
    "letra = letra.lower()\n",
    "\n",
    "if letra == \"0\" or letra == \"1\" or letra == \"2\" or letra == \"3\" or letra == \"4\" or letra == \"5\" or letra == \"6\" or letra == \"7\" or letra == \"8\" or letra == \"9\":\n",
    "    print('\\nNão Digite números!!!!')    \n",
    "elif letra == \"a\" or letra == \"e\" or letra == \"i\" or letra == \"o\" or letra == \"u\":\n",
    "    print('\\nA letra digitada é uma VOGAL')\n",
    "else:\n",
    "    print('\\nA letra digitada é uma CONSOANTE')"
   ]
  },
  {
   "cell_type": "code",
   "execution_count": 95,
   "id": "e3d8392f",
   "metadata": {},
   "outputs": [
    {
     "name": "stdout",
     "output_type": "stream",
     "text": [
      "\n",
      "Digite a 1º nota ->4\n",
      "\n",
      "Digite a 2º nota ->4\n",
      "\n",
      " A sua média foi [ 4.0 ], portanto você foi \"Reprovado\"!\n"
     ]
    }
   ],
   "source": [
    "# Exercício 15 - Faça um programa para a leitura de duas notas parciais de um aluno. O\n",
    "# programa deve calcular a média alcançada por aluno e apresentar:\n",
    "# • A mensagem \"Aprovado\", se a média alcançada for maior ou igual a sete;\n",
    "# • A mensagem \"Reprovado\", se a média for menor do que sete;\n",
    "# • A mensagem \"Aprovado com Distinção\", se a média for igual a dez.\n",
    "\n",
    "nota1 = float(input('\\nDigite a 1º nota ->'))\n",
    "nota2 = float(input('\\nDigite a 2º nota ->'))\n",
    "\n",
    "media = ( nota1 + nota2 ) / 2\n",
    "\n",
    "if media == 10: \n",
    "    print('\\n A sua média foi [',media,'], portanto você foi \"Aprovado com Distinção\"!')\n",
    "elif media >= 7 and media <= 9:\n",
    "    print('\\n A sua média foi [',media,'], portanto você foi \"Aprovado\"!')\n",
    "else:\n",
    "    print('\\n A sua média foi [',media,'], portanto você foi \"Reprovado\"!')\n",
    "\n"
   ]
  },
  {
   "cell_type": "code",
   "execution_count": 100,
   "id": "a462f14a",
   "metadata": {},
   "outputs": [
    {
     "name": "stdout",
     "output_type": "stream",
     "text": [
      "\n",
      "Digite o 1º número ->5\n",
      "\n",
      "Digite o 2º número ->8\n",
      "\n",
      "Digite o 3º número ->10\n",
      "\n",
      "O maior número digitado foi = 10.0\n"
     ]
    }
   ],
   "source": [
    "# Exercício 16 - Faça um Programa que leia três números e mostre o maior deles.\n",
    "\n",
    "num1 = float(input('\\nDigite o 1º número ->'))\n",
    "num2 = float(input('\\nDigite o 2º número ->'))\n",
    "num3 = float(input('\\nDigite o 3º número ->'))\n",
    "\n",
    "if num1 > num2 and num1 > num3:\n",
    "    print(f'\\nO maior número digitado foi = {num1}')\n",
    "elif num2 > num1 and num2 > num3:\n",
    "    print(f'\\nO maior número digitado foi = {num2}')\n",
    "else:\n",
    "    print(f'\\nO maior número digitado foi = {num3}')\n",
    "\n"
   ]
  },
  {
   "cell_type": "code",
   "execution_count": 105,
   "id": "d4c81ee8",
   "metadata": {},
   "outputs": [
    {
     "name": "stdout",
     "output_type": "stream",
     "text": [
      "\n",
      "Digite o 1º número ->2\n",
      "\n",
      "Digite o 2º número ->50\n",
      "\n",
      "Digite o 3º número ->6\n",
      "\n",
      "O maior número digitado foi = 50.0\n",
      "\n",
      "E o menor número digitado foi = 2.0\n"
     ]
    }
   ],
   "source": [
    "# Exercício 17 - Faça um Programa que leia três números e mostre o maior e o menor deles.\n",
    "num1 = float(input('\\nDigite o 1º número ->'))\n",
    "num2 = float(input('\\nDigite o 2º número ->'))\n",
    "num3 = float(input('\\nDigite o 3º número ->'))\n",
    "\n",
    "if num1 > num2 and num1 > num3:\n",
    "    print(f'\\nO maior número digitado foi = {num1}')\n",
    "elif num2 > num1 and num2 > num3:\n",
    "    print(f'\\nO maior número digitado foi = {num2}')\n",
    "else:\n",
    "    print(f'\\nO maior número digitado foi = {num3}')\n",
    "\n",
    "    \n",
    "if num1 < num2 and num1 < num3:\n",
    "    print(f'\\nE o menor número digitado foi = {num1}')\n",
    "elif num2 < num1 and num2 < num3:\n",
    "    print(f'\\nE o menor número digitado foi = {num2}')\n",
    "else:\n",
    "    print(f'\\nE o menor número digitado foi = {num3}')\n",
    "    \n",
    "\n",
    "    "
   ]
  },
  {
   "cell_type": "code",
   "execution_count": 110,
   "id": "ef20508c",
   "metadata": {},
   "outputs": [
    {
     "name": "stdout",
     "output_type": "stream",
     "text": [
      "\n",
      "Qual o preço do 1º Produto? ->3\n",
      "\n",
      "Qual o preço do 2º Produto? ->1\n",
      "\n",
      "Qual o preço do 3º Produto? ->2\n",
      "\n",
      "Compre o produto que custa = R$ 1.0\n"
     ]
    }
   ],
   "source": [
    "# Exercício 18 - Faça um programa que pergunte o preço de três produtos e informe\n",
    "# qual produto você deve comprar,\n",
    "# sabendo que a decisão é sempre pelo mais barato.\n",
    "# Exercício 16 - Faça um Programa que leia três números e mostre o maior deles.\n",
    "\n",
    "prod1 = float(input('\\nQual o preço do 1º Produto? -> R$ '))\n",
    "prod2 = float(input('\\nQual o preço do 2º Produto? -> R$ '))\n",
    "prod3 = float(input('\\nQual o preço do 3º Produto? -> R$ '))\n",
    "\n",
    "if prod1 < prod2 and prod1 < prod3:\n",
    "    print(f'\\nCompre o produto que custa = R$ {prod1}')\n",
    "elif prod2 < prod1 and prod2 < prod3:\n",
    "    print(f'\\nCompre o produto que custa = R$ {prod2}')\n",
    "else:\n",
    "    print(f'\\nCompre o produto que custa = R$ {prod3}')\n"
   ]
  },
  {
   "cell_type": "code",
   "execution_count": null,
   "id": "9a69fb17",
   "metadata": {},
   "outputs": [],
   "source": [
    "# Exercício 19 - Faça um Programa que leia três números e mostre-os em ordem decrescente.\n",
    "#num1 = float(input('\\nDigite o 1º número ->'))\n",
    "#num2 = float(input('\\nDigite o 2º número ->'))\n",
    "#num3 = float(input('\\nDigite o 3º número ->'))\n",
    "\n",
    "#crescente \n",
    "\n",
    "#if num1 > num2 and num2 > num3:\n",
    "#    print(num1,',',num2,',',num3)\n",
    "#elif num1 > num1 and num2 > num3:\n",
    "#    print(f'\\nO maior número digitado foi = {num2}')\n",
    "#else:\n",
    "#    print(f'\\nO maior número digitado foi = {num3}')"
   ]
  }
 ],
 "metadata": {
  "kernelspec": {
   "display_name": "Python 3 (ipykernel)",
   "language": "python",
   "name": "python3"
  },
  "language_info": {
   "codemirror_mode": {
    "name": "ipython",
    "version": 3
   },
   "file_extension": ".py",
   "mimetype": "text/x-python",
   "name": "python",
   "nbconvert_exporter": "python",
   "pygments_lexer": "ipython3",
   "version": "3.10.9"
  }
 },
 "nbformat": 4,
 "nbformat_minor": 5
}
