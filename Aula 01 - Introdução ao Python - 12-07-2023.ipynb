{
 "cells": [
  {
   "cell_type": "markdown",
   "id": "51ea26d7",
   "metadata": {},
   "source": [
    "Exercício 01 – Crie um programa para receber dois valores e em seguida, exiba o valor da soma."
   ]
  },
  {
   "cell_type": "code",
   "execution_count": 6,
   "id": "d76854a9",
   "metadata": {},
   "outputs": [
    {
     "name": "stdout",
     "output_type": "stream",
     "text": [
      "40\n"
     ]
    }
   ],
   "source": [
    "valor1 = 10\n",
    "valor2 = 30\n",
    "soma = valor1 + valor2\n",
    "print(soma)"
   ]
  },
  {
   "cell_type": "markdown",
   "id": "945f7abe",
   "metadata": {},
   "source": [
    "Exercício 02 – Crie um programa para receber dois valores e em seguida, exiba o valor da diferença entre eles."
   ]
  },
  {
   "cell_type": "code",
   "execution_count": 8,
   "id": "63659aef",
   "metadata": {},
   "outputs": [
    {
     "name": "stdout",
     "output_type": "stream",
     "text": [
      "5\n"
     ]
    }
   ],
   "source": [
    "A = 10\n",
    "B = 5\n",
    "diferenca = A - B\n",
    "print(diferenca)"
   ]
  },
  {
   "cell_type": "markdown",
   "id": "8b789296",
   "metadata": {},
   "source": [
    "Exercício 03 – Crie um programa para receber dois valores e em seguida, exiba o produto entre eles."
   ]
  },
  {
   "cell_type": "code",
   "execution_count": 17,
   "id": "020b2a85",
   "metadata": {},
   "outputs": [
    {
     "name": "stdout",
     "output_type": "stream",
     "text": [
      "O resultado da multiplicação é =  100\n"
     ]
    }
   ],
   "source": [
    "x = 10\n",
    "y = 10\n",
    "produto = x * y\n",
    "print('O resultado da multiplicação é = ',produto)"
   ]
  },
  {
   "cell_type": "markdown",
   "id": "34cb95ac",
   "metadata": {},
   "source": [
    "Exercício 04 - Crie um programa para receber dois valores e em seguida, exiba o quociente entre eles."
   ]
  },
  {
   "cell_type": "code",
   "execution_count": 15,
   "id": "b1b1b84f",
   "metadata": {},
   "outputs": [
    {
     "name": "stdout",
     "output_type": "stream",
     "text": [
      "10.0\n"
     ]
    }
   ],
   "source": [
    "num1 = 20\n",
    "num2 = 2\n",
    "divisao = num1 / num2\n",
    "print(divisao)"
   ]
  },
  {
   "cell_type": "code",
   "execution_count": 18,
   "id": "9c7cc134",
   "metadata": {},
   "outputs": [
    {
     "name": "stdout",
     "output_type": "stream",
     "text": [
      "O resto da divisão é =  1\n"
     ]
    }
   ],
   "source": [
    "#Exercício 05 - Crie um programa para receber dois valores e em seguida, exiba o resto da divisão entre eles.\n",
    "numero1 = 5\n",
    "numero2 = 2\n",
    "resto = numero1 % numero2\n",
    "print('O resto da divisão é = ',resto)"
   ]
  },
  {
   "cell_type": "code",
   "execution_count": 19,
   "id": "26d1c1f5",
   "metadata": {},
   "outputs": [
    {
     "name": "stdout",
     "output_type": "stream",
     "text": [
      "4\n"
     ]
    }
   ],
   "source": [
    "#Exercício 06 - Crie um programa para receber um número e em seguida, exiba o quadrado dele.\n",
    "num1 = 2\n",
    "num1 = num1**2\n",
    "print(num1)"
   ]
  },
  {
   "cell_type": "code",
   "execution_count": 20,
   "id": "8dd96fa1",
   "metadata": {},
   "outputs": [
    {
     "name": "stdout",
     "output_type": "stream",
     "text": [
      "3.0\n"
     ]
    }
   ],
   "source": [
    "#Exercício 07 – Elabora um programa para calcular a raiz quadrada de um número, utilizando a biblioteca math.\n",
    "import math\n",
    "num = 9\n",
    "raizQuadrada = math.sqrt(num)\n",
    "print(raizQuadrada)"
   ]
  },
  {
   "cell_type": "code",
   "execution_count": 22,
   "id": "1a459f09",
   "metadata": {},
   "outputs": [
    {
     "name": "stdout",
     "output_type": "stream",
     "text": [
      "4\n"
     ]
    }
   ],
   "source": [
    "#Exercício 08 – Crie um programa que seja capaz de calcular o valor absoluto de um número.\n",
    "numero = -4\n",
    "absoluto = abs(numero)\n",
    "print(absoluto)"
   ]
  },
  {
   "cell_type": "code",
   "execution_count": 28,
   "id": "9d91720e",
   "metadata": {},
   "outputs": [
    {
     "name": "stdout",
     "output_type": "stream",
     "text": [
      "Digite um valor em metros -> 10\n",
      "O número em centimetros é =  1000.0 cm\n"
     ]
    }
   ],
   "source": [
    "# Exercício 10 - Faça um Programa que converta metros para centímetros.\n",
    "metros = float(input('Digite um valor em metros -> '))\n",
    "# type(metros)  -> Mostrará o tipo do dado!\n",
    "metros = metros * 100\n",
    "print('O número em centimetros é = ',metros, 'cm')\n"
   ]
  },
  {
   "cell_type": "code",
   "execution_count": 31,
   "id": "e563dcd3",
   "metadata": {},
   "outputs": [
    {
     "name": "stdout",
     "output_type": "stream",
     "text": [
      "Digite o tamanho do raio -> 2\n",
      "A área do circulo é =  12.566370614359172\n"
     ]
    }
   ],
   "source": [
    "# Exercício 11 - Faça um Programa que peça o raio de um círculo, calcule e mostre sua área.\n",
    "raio = float(input('Digite o tamanho do raio -> '))\n",
    "area = math.pi * (raio ** 2)                              # round (numero quebrado , Qnt casas)\n",
    "# Comando para controlar a quantidade de cadas decimais é = round (   3.1445454    ,   3      )    \n",
    "print('A área do circulo é = ', area)"
   ]
  },
  {
   "cell_type": "code",
   "execution_count": 70,
   "id": "f6da5cda",
   "metadata": {},
   "outputs": [
    {
     "name": "stdout",
     "output_type": "stream",
     "text": [
      "Digite a largura do quadrado -> 10\n",
      "\n",
      " O lado do quadrado é =  10.0 mm²\n",
      "\n",
      " A área do quadrado é =  100.0 mm²\n",
      "\n",
      " O dobro da área do quadrado é =  200.0 mm²\n"
     ]
    }
   ],
   "source": [
    "# Exercício 12 - Faça um Programa que calcule a área de um quadrado, em seguida mostre o dobro desta área para o usuário.\n",
    "lado = float(input('Digite a largura do quadrado -> '))\n",
    "print('\\n O lado do quadrado é = ', lado,'mm²')\n",
    "lado = lado ** 2\n",
    "print('\\n A área do quadrado é = ', lado,'mm²')\n",
    "print('\\n O dobro da área do quadrado é = ', lado*2,'mm²')"
   ]
  },
  {
   "cell_type": "code",
   "execution_count": 43,
   "id": "b77a67a9",
   "metadata": {},
   "outputs": [
    {
     "name": "stdout",
     "output_type": "stream",
     "text": [
      "Quanto você ganha por hora -> R$ 1\n",
      "\n",
      " Quantas horas você trabalhou -> Hrs 5\n",
      "\n",
      " O seu salario total é = R$  5.0\n"
     ]
    }
   ],
   "source": [
    "# Exercício 13 - Faça um Programa que pergunte quanto você ganha por hora e o número de horas trabalhadas no mês. \n",
    "# Calcule e mostre o total do seu salário no referido mês.\n",
    "\n",
    "SalarioPorHora = float(input('Quanto você ganha por hora -> R$ '))\n",
    "HorasTraballhada = float(input('\\n Quantas horas você trabalhou -> Hrs '))\n",
    "totalSalarioMes = SalarioPorHora * HorasTraballhada\n",
    "print('\\n O seu salario total é = R$ ', totalSalarioMes)\n",
    "\n"
   ]
  },
  {
   "cell_type": "code",
   "execution_count": 51,
   "id": "ada010a8",
   "metadata": {},
   "outputs": [
    {
     "name": "stdout",
     "output_type": "stream",
     "text": [
      "Digite os graus em Fahrenheit -> 4\n",
      "\n",
      "[ 4.0 ° Fahrenheit] equivale(em) à [ -15.555555555555555 °] Celsius\n"
     ]
    }
   ],
   "source": [
    "# Exercício 14 - Faça um Programa que peça a temperatura em graus Fahrenheit, transforme e mostre a temperatura em graus Celsius.\n",
    "Fahrenheit = float(input('Digite os graus em Fahrenheit -> '))\n",
    "Celsius = (Fahrenheit - 32) / 1.8\n",
    "print('\\n[',Fahrenheit,'° Fahrenheit] equivale(em) à [',Celsius,'°] Celsius')\n",
    "# print('\\n[',Fahrenheit,'° Fahrenheit] equivale(em) à [',round(Celsius,2),'°] Celsius') com apenas dúas casas decimais!"
   ]
  },
  {
   "cell_type": "code",
   "execution_count": 53,
   "id": "565ea3a7",
   "metadata": {},
   "outputs": [
    {
     "name": "stdout",
     "output_type": "stream",
     "text": [
      "Digite os graus em Celsius -> 4\n",
      "\n",
      "[ 4.0 ° Celsius ] equivale(em) à [ 39.2 °] Fahrenheit\n"
     ]
    }
   ],
   "source": [
    "# Exercício 15 - Faça um Programa que peça a temperatura em graus Celsius, transforme e mostre em graus Fahrenheit.\n",
    "Celsius = float(input('Digite os graus em Celsius -> '))\n",
    "Fahrenheit = Celsius * 1.8 + 32\n",
    "print('\\n[',Celsius,'° Celsius ] equivale(em) à [',Fahrenheit,'°] Fahrenheit')"
   ]
  },
  {
   "cell_type": "code",
   "execution_count": 67,
   "id": "a5a72f11",
   "metadata": {},
   "outputs": [
    {
     "name": "stdout",
     "output_type": "stream",
     "text": [
      "Digite o 1º Nº inteiro -> 4\n",
      "\n",
      "Digite o 2º Nº inteiro -> 5\n",
      "\n",
      " O dobro de [ 4 ] mais a metade do [ 5 ] é =  10.5\n"
     ]
    }
   ],
   "source": [
    "# Exercício 16 - Faça um Programa que peça 2 números inteiros e um número real. Calcule e mostre:\n",
    "\n",
    "NumInt01 = int(input('Digite o 1º Nº inteiro -> '))\n",
    "NumInt02 = int(input('\\nDigite o 2º Nº inteiro -> '))\n",
    "#NumReal03 = float(input('\\nDigite um Nº real -> '))\n",
    "\n",
    "# a) o produto do dobro do primeiro com metade do segundo.\n",
    "produto = NumInt01 * 2 + NumInt02 / 2\n",
    "print('\\n O dobro de [',NumInt01,'] mais a metade do [',NumInt02,'] é = ',produto)\n",
    "\n",
    "# c) o terceiro elevado ao cubo."
   ]
  },
  {
   "cell_type": "code",
   "execution_count": 68,
   "id": "2e97b995",
   "metadata": {},
   "outputs": [
    {
     "name": "stdout",
     "output_type": "stream",
     "text": [
      "Digite o 1º Nº inteiro -> 10\n",
      "\n",
      "Digite um Nº real -> 20\n",
      "\n",
      " O triplo do [ 10 ] mais [ 20.0 ] é =  50.0\n"
     ]
    }
   ],
   "source": [
    "# Exercício 16 - Faça um Programa que peça 2 números inteiros e um número real. Calcule e mostre:\n",
    "\n",
    "NumInt01 = int(input('Digite o 1º Nº inteiro -> '))\n",
    "#NumInt02 = int(input('\\nDigite o 2º Nº inteiro -> '))\n",
    "NumReal03 = float(input('\\nDigite um Nº real -> '))\n",
    "\n",
    "# b) a soma do triplo do primeiro com o terceiro.\n",
    "triplo = NumInt01 * 3 + NumReal03\n",
    "print('\\n O triplo do [',NumInt01,'] mais [',NumReal03,'] é = ',triplo)\n"
   ]
  },
  {
   "cell_type": "code",
   "execution_count": 69,
   "id": "04bbd58e",
   "metadata": {},
   "outputs": [
    {
     "name": "stdout",
     "output_type": "stream",
     "text": [
      "\n",
      "Digite um Nº real -> 10\n",
      "\n",
      " O cubo do [ 10.0 ] é =  1000.0\n"
     ]
    }
   ],
   "source": [
    "# Exercício 16 - Faça um Programa que peça 2 números inteiros e um número real. Calcule e mostre:\n",
    "\n",
    "#NumInt01 = int(input('Digite o 1º Nº inteiro -> '))\n",
    "#NumInt02 = int(input('\\nDigite o 2º Nº inteiro -> '))\n",
    "NumReal03 = float(input('\\nDigite um Nº real -> '))\n",
    "\n",
    "# c) o terceiro elevado ao cubo.\n",
    "cubo = NumReal03 ** 3\n",
    "print('\\n O cubo do [',NumReal03,'] é = ',cubo)\n"
   ]
  },
  {
   "cell_type": "code",
   "execution_count": 82,
   "id": "81d97d29",
   "metadata": {},
   "outputs": [
    {
     "name": "stdout",
     "output_type": "stream",
     "text": [
      "Qual foi o peso da pesca? -> 52\n",
      "\n",
      "O valor excedente é = [ 2.0  kg ]\n",
      "\n",
      "O valor total de multa é = [ R$  8.0 ]\n"
     ]
    }
   ],
   "source": [
    "# Exercício 17 - João Papo-de-Pescador, homem de bem, comprou um microcomputador para controlar o rendimento diário de seu trabalho.\n",
    "# Toda vez que ele traz um peso de peixes maior que o estabelecido\n",
    "# pelo regulamento de pesca do estado de São Paulo (50 quilos) deve pagar uma multa de R$ 4,00 por quilo excedente.\n",
    "# João precisa que você faça um programa que leia a variável peso (peso de peixes) e calcule o excesso.\n",
    "\n",
    "# Gravar na variável excesso a quantidade de quilos além do limite\n",
    "# e na variável multa o valor da multa que João deverá pagar.\n",
    "# Imprima os dados do programa com as mensagens adequadas.\n",
    "\n",
    "multa = 0\n",
    "excesso = 0\n",
    "\n",
    "pesoMaxRegulamentoSP = 50\n",
    "pesoDePeixes = float(input('Qual foi o peso da pesca? -> '))\n",
    "\n",
    "if pesoDePeixes > pesoMaxRegulamentoSP:\n",
    "    excesso = pesoDePeixes - pesoMaxRegulamentoSP\n",
    "    multa = excesso * 4\n",
    "else:    \n",
    "    excesso = 0\n",
    "\n",
    "\n",
    "print('\\nO valor excedente é = [',excesso,' kg ]')\n",
    "print('\\nO valor total de multa é = [ R$ ',multa,']')"
   ]
  },
  {
   "cell_type": "code",
   "execution_count": null,
   "id": "cd64d73b",
   "metadata": {},
   "outputs": [],
   "source": [
    "# Exercício 18 - Faça um Programa que pergunte quanto você ganha por hora\n",
    "# e o número de horas trabalhadas no mês.\n",
    "# Calcule e mostre o total do seu salário no referido mês, sabendo-se que são descontados 11% para o Imposto de Renda, 8% para o INSS e 5% para o sindicato, faça um programa que nos dê:\n",
    "# a) salário bruto.\n",
    "# b) quanto pagou ao INSS.\n",
    "# c) quanto pagou ao sindicato.\n",
    "# d) o salário líquido.\n",
    "# e) calcule os descontos e o salário líquido, conforme a tabela abaixo:\n",
    "# + Salário Bruto : R$\n",
    "# - IR (11%) : R$\n",
    "# - INSS (8%) : R$\n",
    "# - Sindicato ( 5%) : R$\n",
    "# = Salário Liquido : R$\n",
    "# Exercício 19 - Faça um programa para uma loja de tintas. O programa deverá pedir o tamanho em metros quadrados da área a ser pintada. Considere que a cobertura da tinta é de 1 litro para cada 3 metros quadrados e que a tinta é vendida em latas de 18 litros, que custam R$ 80,00. Informe ao usuário a quantidades de latas de tinta a serem compradas e o preço total.\n"
   ]
  }
 ],
 "metadata": {
  "kernelspec": {
   "display_name": "Python 3 (ipykernel)",
   "language": "python",
   "name": "python3"
  },
  "language_info": {
   "codemirror_mode": {
    "name": "ipython",
    "version": 3
   },
   "file_extension": ".py",
   "mimetype": "text/x-python",
   "name": "python",
   "nbconvert_exporter": "python",
   "pygments_lexer": "ipython3",
   "version": "3.10.9"
  }
 },
 "nbformat": 4,
 "nbformat_minor": 5
}
