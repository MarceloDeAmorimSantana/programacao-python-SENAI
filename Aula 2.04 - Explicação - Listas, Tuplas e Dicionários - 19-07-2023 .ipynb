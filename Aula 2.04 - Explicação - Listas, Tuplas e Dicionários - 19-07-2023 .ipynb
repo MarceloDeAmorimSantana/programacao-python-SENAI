{
 "cells": [
  {
   "cell_type": "code",
   "execution_count": 9,
   "id": "0d92d1c1",
   "metadata": {},
   "outputs": [
    {
     "name": "stdout",
     "output_type": "stream",
     "text": [
      "<class 'list'>\n",
      "<class 'list'>\n"
     ]
    },
    {
     "data": {
      "text/plain": [
       "['Amanda', 'Ana', 'Bruno', 'Marcelo']"
      ]
     },
     "execution_count": 9,
     "metadata": {},
     "output_type": "execute_result"
    }
   ],
   "source": [
    "# Listas\n",
    "\n",
    "alunos = ['Amanda','Ana','Bruno','João']\n",
    "notas = [10, 8.5, 7.8, 8.0]\n",
    "\n",
    "alunos[3] # Retornar um elemeto da posição 3 da Lista (O indice da lista começa em '0')\n",
    "\n",
    "\n",
    "#Verificando o tipo de dados\n",
    "print(type(alunos))\n",
    "print(type(notas))\n",
    "\n",
    "\n",
    "# Adicionar um novo elemento\n",
    "alunos.append('Marcelo')\n",
    "\n",
    "alunos\n",
    "\n",
    "# Remover um elemento\n",
    "alunos.remove('João')\n",
    "\n",
    "alunos"
   ]
  }
 ],
 "metadata": {
  "kernelspec": {
   "display_name": "Python 3 (ipykernel)",
   "language": "python",
   "name": "python3"
  },
  "language_info": {
   "codemirror_mode": {
    "name": "ipython",
    "version": 3
   },
   "file_extension": ".py",
   "mimetype": "text/x-python",
   "name": "python",
   "nbconvert_exporter": "python",
   "pygments_lexer": "ipython3",
   "version": "3.10.9"
  }
 },
 "nbformat": 4,
 "nbformat_minor": 5
}
