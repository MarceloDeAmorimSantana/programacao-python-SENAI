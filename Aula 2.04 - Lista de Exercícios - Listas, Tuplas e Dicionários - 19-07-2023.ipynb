{
 "cells": [
  {
   "cell_type": "code",
   "execution_count": 4,
   "id": "68133fe1",
   "metadata": {},
   "outputs": [
    {
     "name": "stdout",
     "output_type": "stream",
     "text": [
      "Santos\n"
     ]
    }
   ],
   "source": [
    "# Exercício 01 - Crie uma lista com nomes de 4 times de futebol.\n",
    "# a) Palmeiras\n",
    "# b) São Paulo\n",
    "# c) Santos\n",
    "# d) Água Santa\n",
    "times = ['Palmeiras','São Paulo','Santos','Água Santa']\n",
    "\n",
    "# e) Acesse o time que está na 3a posição.\n",
    "print(times[2])\n",
    "\n",
    "# para imprimir uma lista, pode colocar direto ( sem o print )\n",
    "# Exemplo: \n",
    "# times[2]\n"
   ]
  },
  {
   "cell_type": "code",
   "execution_count": 15,
   "id": "446573d7",
   "metadata": {},
   "outputs": [
    {
     "name": "stdout",
     "output_type": "stream",
     "text": [
      "E\n"
     ]
    }
   ],
   "source": [
    "# f) Crie uma lista com duas listas de 3 times de futebol, cada uma de uma divisão diferente.\n",
    "\n",
    "# Como imprimir a letra E\n",
    "#            [0]                         [1] [0]\n",
    "divisoes = [  [  'A' , 'B' , 'C' , 'D'] , [  'E', 'F' , 'G' , 'H']]\n",
    "print(divisoes[1][0])"
   ]
  },
  {
   "cell_type": "code",
   "execution_count": 29,
   "id": "d8dede4a",
   "metadata": {},
   "outputs": [
    {
     "data": {
      "text/plain": [
       "['Real', 'Euro', 'Dolar', 'Cuna', 'Peso']"
      ]
     },
     "execution_count": 29,
     "metadata": {},
     "output_type": "execute_result"
    }
   ],
   "source": [
    "#Exercício 02 - Crie uma lista com 3 diferentes moedas. Acrescente mais 2 outras moedas à essa mesma lista.\n",
    "\n",
    "moedas = ['Real','Euro','Dolar']\n",
    "\n",
    "moedas.append('Cuna')\n",
    "moedas.append('Peso')\n",
    "\n",
    "moedas\n",
    "\n",
    "# Exercício 03 - Crie uma string com a lista do exercício anterior.         LISTA PARA STRING\n",
    "# Converter uma lista em uma String com o separador sendo uma vírgula:\n",
    "texto = ','.join(moedas)\n",
    "texto\n",
    "\n",
    "#Exercício 04 - Agora utilize a string \"testo\" do exercício 6 para recriar uma lista.\n",
    "# Converter uma String para lista novamente, separar os itens por virgula:  STRING PARA LISTA\n",
    "moedas = texto.split(',')\n",
    "\n",
    "moedas\n"
   ]
  },
  {
   "cell_type": "code",
   "execution_count": 33,
   "id": "4651d906",
   "metadata": {},
   "outputs": [
    {
     "data": {
      "text/plain": [
       "(90, 79, 54, 32, 21)"
      ]
     },
     "execution_count": 33,
     "metadata": {},
     "output_type": "execute_result"
    }
   ],
   "source": [
    "#======== TUPLAS ==========#   ( Os valores ficarão fixos )\n",
    "\n",
    "valores = (90, 79, 54, 32, 21)\n",
    "pontos = (100, 94.05, 86.8, 62)\n",
    "\n",
    "valores\n"
   ]
  },
  {
   "cell_type": "code",
   "execution_count": null,
   "id": "a72bae8e",
   "metadata": {},
   "outputs": [],
   "source": [
    "my_list = [1,2]  # Criando uma lista\n",
    "\n",
    "my_tuple = (1,2)  # Criando uma tupla\n",
    "\n",
    "other_tuple = (3,4) # Criando uma outra tupla\n",
    "\n",
    "my_list [1] = 3 # Substituindo um elemento de uma lista\n",
    "\n",
    "\n",
    "#Tratamento de erro. Executa o bloco \"try\", caso não haja erro. Executa o bloco \"Except TypeError\" caso haja erro!\n",
    "try: \n",
    "    my_tuple[1] = 3\n",
    "except TypeError:\n",
    "    print('Você não pode modificar uma tupla!')\n"
   ]
  },
  {
   "cell_type": "code",
   "execution_count": 34,
   "id": "7869e577",
   "metadata": {},
   "outputs": [
    {
     "data": {
      "text/plain": [
       "(12, 20)"
      ]
     },
     "execution_count": 34,
     "metadata": {},
     "output_type": "execute_result"
    }
   ],
   "source": [
    "def sum_and_product (x,y):\n",
    "    return (x + y),(x * y)   # O comando de ''return'' já imprime automaticamente as informações. ( Faz um print sozinho )\n",
    "\n",
    "sum_and_product(10,2)   # Chamar o nome da função Ex.: \"sum_and_product\" e depois passar 2 valores por parâmetro ."
   ]
  },
  {
   "cell_type": "code",
   "execution_count": 37,
   "id": "e917a5bb",
   "metadata": {},
   "outputs": [
    {
     "data": {
      "text/plain": [
       "15"
      ]
     },
     "execution_count": 37,
     "metadata": {},
     "output_type": "execute_result"
    }
   ],
   "source": [
    "soma , multiplicacao = sum_and_product (5,10)  #S É 15 p é 50\n",
    "\n",
    "soma   # Chama a função 'sum_and_product', e imprime apenas o valor que foi carregado na variável s\n",
    "\n",
    "multiplicacao   # Chama a função 'sum_and_product', e imprime apenas o valor que foi carregado na variável p"
   ]
  },
  {
   "cell_type": "code",
   "execution_count": 38,
   "id": "0ddf0187",
   "metadata": {},
   "outputs": [
    {
     "name": "stdout",
     "output_type": "stream",
     "text": [
      "A altura do João é:  1.7\n",
      "O peso da Ana é:  86\n"
     ]
    }
   ],
   "source": [
    "# ====== DICIONÁRIOS ======   TEM QUE PASSAR UM PAR DE INFORMAÇÕES, UMA COMO SE FOSSE TITULO e depois o valor abaixo do título.\n",
    "altura = {'Amanda':1.65, 'Ana':1.60, 'João':1.70}\n",
    "peso = {'Amanda': 65, 'Ana': 86, 'João': 170}\n",
    "\n",
    "print('A altura do João é: ',altura['João'])\n",
    "print('O peso da Ana é: ',peso['Ana'])\n",
    "\n",
    "#print(type(altura))\n",
    "#print(type(peso))"
   ]
  },
  {
   "cell_type": "code",
   "execution_count": 39,
   "id": "9474285e",
   "metadata": {},
   "outputs": [
    {
     "data": {
      "text/plain": [
       "{'nome': 'Tânia',\n",
       " 'idade': 35,\n",
       " 'fruta': 'Uva',\n",
       " 'cor': 'Roxa',\n",
       " 'musica': 'Forró'}"
      ]
     },
     "execution_count": 39,
     "metadata": {},
     "output_type": "execute_result"
    }
   ],
   "source": [
    "cadastro = {\n",
    "            'nome':'Tânia',\n",
    "            'idade': 35,\n",
    "            'fruta':'Uva',\n",
    "            'cor':'Roxa',\n",
    "            'musica':'Forró'\n",
    "           }\n",
    "\n",
    "cadastro\n",
    "\n"
   ]
  },
  {
   "cell_type": "code",
   "execution_count": 40,
   "id": "be24cf06",
   "metadata": {},
   "outputs": [
    {
     "data": {
      "text/plain": [
       "{'nome': 'Tânia',\n",
       " 'idade': 35,\n",
       " 'fruta': 'laranja',\n",
       " 'cor': 'Roxa',\n",
       " 'musica': 'Forró'}"
      ]
     },
     "execution_count": 40,
     "metadata": {},
     "output_type": "execute_result"
    }
   ],
   "source": [
    "# Troca o par dos dados   ( antes era 'fruta':'Uva'  e passou a ficar como: 'fruta': 'laranja' )\n",
    "cadastro ['fruta'] = 'laranja'\n",
    "\n",
    "cadastro\n",
    "\n"
   ]
  },
  {
   "cell_type": "code",
   "execution_count": 41,
   "id": "dde1323f",
   "metadata": {},
   "outputs": [
    {
     "data": {
      "text/plain": [
       "{'nome': 'Tânia',\n",
       " 'idade': 35,\n",
       " 'fruta': 'laranja',\n",
       " 'cor': 'Roxa',\n",
       " 'musica': 'Forró',\n",
       " 'sobrenome': 'Gomes'}"
      ]
     },
     "execution_count": 41,
     "metadata": {},
     "output_type": "execute_result"
    }
   ],
   "source": [
    "# Incui um novo campo quando ele não existir  \n",
    "cadastro ['sobrenome'] = 'Gomes'\n",
    "\n",
    "cadastro"
   ]
  },
  {
   "cell_type": "code",
   "execution_count": 42,
   "id": "70cbaf9c",
   "metadata": {},
   "outputs": [
    {
     "data": {
      "text/plain": [
       "{'nome': 'Tânia',\n",
       " 'idade': 35,\n",
       " 'fruta': 'laranja',\n",
       " 'cor': 'Roxa',\n",
       " 'musica': 'Forró'}"
      ]
     },
     "execution_count": 42,
     "metadata": {},
     "output_type": "execute_result"
    }
   ],
   "source": [
    "# Para exclusão de um campo  ( Comando 'del' e o 'nome do campo' )\n",
    "del cadastro['sobrenome'] \n",
    "\n",
    "cadastro"
   ]
  },
  {
   "cell_type": "code",
   "execution_count": 43,
   "id": "e1aa25d5",
   "metadata": {},
   "outputs": [
    {
     "data": {
      "text/plain": [
       "{'nome': 'Tânia',\n",
       " 'idade': 35,\n",
       " 'fruta': 'laranja',\n",
       " 'cor': 'Roxa',\n",
       " 'musica': 'Forró',\n",
       " 'sobrenome': 'Gomes'}"
      ]
     },
     "execution_count": 43,
     "metadata": {},
     "output_type": "execute_result"
    }
   ],
   "source": [
    "#Incluindo um par diferente \"Que não existia\"\n",
    "cadastro ['sobrenome'] = 'Gomes'\n",
    "\n",
    "cadastro"
   ]
  },
  {
   "cell_type": "code",
   "execution_count": 45,
   "id": "d206485c",
   "metadata": {},
   "outputs": [
    {
     "data": {
      "text/plain": [
       "{'nome': 'Ana',\n",
       " 'idade': 27,\n",
       " 'fruta': 'abacaxi',\n",
       " 'cor': 'Roxa',\n",
       " 'musica': 'Forró',\n",
       " 'sobrenome': 'Gomes'}"
      ]
     },
     "execution_count": 45,
     "metadata": {},
     "output_type": "execute_result"
    }
   ],
   "source": [
    "# Atualização em lote\n",
    "cadastro.update({'nome':'Ana','idade':27,'fruta':'abacaxi'})\n",
    "cadastro"
   ]
  }
 ],
 "metadata": {
  "kernelspec": {
   "display_name": "Python 3 (ipykernel)",
   "language": "python",
   "name": "python3"
  },
  "language_info": {
   "codemirror_mode": {
    "name": "ipython",
    "version": 3
   },
   "file_extension": ".py",
   "mimetype": "text/x-python",
   "name": "python",
   "nbconvert_exporter": "python",
   "pygments_lexer": "ipython3",
   "version": "3.10.9"
  }
 },
 "nbformat": 4,
 "nbformat_minor": 5
}
