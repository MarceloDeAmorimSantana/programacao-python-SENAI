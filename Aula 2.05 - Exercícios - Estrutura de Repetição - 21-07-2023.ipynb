{
 "cells": [
  {
   "cell_type": "code",
   "execution_count": null,
   "id": "53fde213",
   "metadata": {},
   "outputs": [],
   "source": [
    "# Exercício 14 – Faça um programa que verifique se uma letra é vogal ou consoante.\n",
    "import sys\n",
    "\n",
    "\n",
    "vogais=['a','e','i','o','u']\n",
    "\n",
    "letra_User = input('Digite uma letra -> ')\n",
    "letra_User = letra_User.lower()\n",
    "\n",
    "for letra in vogais:\n",
    "    if letra_User == letra:\n",
    "        print('É uma vogal')\n",
    "        sys.exit() # Interrompe o código\n",
    "    \n",
    "print('É uma consoante')\n",
    "    \n",
    "              \n",
    "              "
   ]
  },
  {
   "cell_type": "code",
   "execution_count": null,
   "id": "994b53dd",
   "metadata": {},
   "outputs": [],
   "source": [
    "# Exercício 06 - Faça um programa que imprima na tela os números de 1 a 20,\n",
    "# um abaixo do outro. Depois modifique o programa para que ele mostre os números um ao lado do outro.\n",
    "\n",
    "numeros = [1,2,3,4,5,6,7,8,9,10,11,12,13,14,15,16,17,18,19,20]\n",
    "\n",
    "for n in numeros:\n",
    "    print(n)\n",
    "    \n",
    "\n",
    "    \n",
    "\n"
   ]
  },
  {
   "cell_type": "code",
   "execution_count": null,
   "id": "a93cfa4b",
   "metadata": {},
   "outputs": [],
   "source": [
    "# COMANDO RANGE\n",
    "lista = range(1,20+1)\n",
    "\n",
    "for x in lista:\n",
    "    print(x)\n"
   ]
  },
  {
   "cell_type": "code",
   "execution_count": null,
   "id": "975011f6",
   "metadata": {},
   "outputs": [],
   "source": [
    "# Exercício 06 - Faça um programa que imprima na tela os números de 1 a 20,\n",
    "# Depois modifique o programa para que ele mostre os números um ao lado do outro.\n",
    "\n",
    "lista = range(1,21)\n",
    "numeros = []\n",
    "\n",
    "\n",
    "for x in lista:\n",
    "    numeros.append(x)\n",
    "    \n",
    "\n",
    "print(f'Foram adicionados {x} elementos à lista:')    \n",
    "print(numeros)\n",
    "    \n",
    "    \n",
    "\n"
   ]
  },
  {
   "cell_type": "code",
   "execution_count": 8,
   "id": "505bc653",
   "metadata": {},
   "outputs": [
    {
     "name": "stdout",
     "output_type": "stream",
     "text": [
      "Digite o 1 º número -> 1\n",
      "Digite o 2 º número -> 2\n",
      "Digite o 3 º número -> 3\n",
      "Digite o 4 º número -> 4\n",
      "Digite o 5 º número -> 5\n",
      "O maior número da lista é 5, e o menor valor é 1.\n"
     ]
    }
   ],
   "source": [
    "# Exercício 07 - Faça um programa que leia 5 números e informe o maior número.\n",
    "\n",
    "loopingDeCinco = range(1,5+1)\n",
    "\n",
    "numeros=[]\n",
    "\n",
    "num = 0\n",
    "\n",
    "for x in loopingDeCinco:\n",
    "    num = int(input(f'Digite o {x} º número -> '))\n",
    "    numeros.append(num)\n",
    "    \n",
    "    \n",
    "maior = max(numeros)\n",
    "menor = min(numeros)\n",
    "\n",
    "print(f'O maior número da lista é {maior}, e o menor valor é {menor}.')\n",
    "\n",
    "#print(numeros)\n",
    "\n",
    "# Controle = range(0,5) # Lista para controle de repetção\n",
    "# numeros = []          # Lista utilizada para armazenar os números inseridos\n",
    "# \n",
    "# for x in controle:\n",
    "#      num = int(input('Digite um número, please '))\n",
    "#      numeros.append(num)\n",
    "# \n",
    "# #print(numeros)\n",
    "# \n"
   ]
  },
  {
   "cell_type": "code",
   "execution_count": null,
   "id": "a4770cd9",
   "metadata": {},
   "outputs": [],
   "source": [
    "# Exercício 09 - Faça um programa que imprima na tela apenas os números ímpares entre 1 e 50.\n",
    "\n",
    "lista = range(1,51)\n",
    "\n",
    "numeros=[]\n",
    "\n",
    "for x in lista:\n",
    "    if x % 2 != 0:\n",
    "        numeros.append(x)\n",
    "\n",
    "    \n",
    "print(numeros)  \n"
   ]
  },
  {
   "cell_type": "code",
   "execution_count": null,
   "id": "d785409b",
   "metadata": {},
   "outputs": [],
   "source": [
    "# Exercício 10 - Faça um programa que receba dois números inteiros e gere os números\n",
    "# inteiros que estão no intervalo compreendido por eles.\n",
    "\n",
    "num1Inicial = int(input(\"Digite o 1º número inteiro -> \"))\n",
    "num2Final = int(input(\"\\nDigite o 2º número inteiro -> \"))\n",
    "\n",
    "numero = range(num1Inicial,num2Final+1)\n",
    "\n",
    "print(\"\\nOs números gerados foram:\")\n",
    "\n",
    "for x in numero:\n",
    "    print(x)\n"
   ]
  },
  {
   "cell_type": "code",
   "execution_count": null,
   "id": "bc07ad30",
   "metadata": {},
   "outputs": [],
   "source": [
    "# Exercício 11 - Altere o programa anterior para mostrar no final a soma dos números.\n",
    "\n",
    "num1Inicial = int(input(\"Digite o 1º número inteiro -> \"))\n",
    "num2Final = int(input(\"\\nDigite o 2º número inteiro -> \"))\n",
    "soma = 0\n",
    "\n",
    "numero = range(num1Inicial,num2Final+1)\n",
    "\n",
    "for x in numero:\n",
    "    print(\"\\n\",x)\n",
    "    soma = soma + x\n",
    "\n",
    "print(\"\\nA soma dos números = \",soma)"
   ]
  },
  {
   "cell_type": "code",
   "execution_count": 25,
   "id": "b88032db",
   "metadata": {},
   "outputs": [
    {
     "name": "stdout",
     "output_type": "stream",
     "text": [
      "Informe qual nº da tabuada que você quer ver -> 77\n",
      "\n",
      "Valor fora da faiza de especificação. Digite um Nº entre 0 e 10!\n"
     ]
    }
   ],
   "source": [
    "# Exercício 12 - Desenvolva um gerador de tabuada, capaz de gerar a tabuada de\n",
    "# qualquer número inteiro entre 1 a 10. O usuário deve informar de qual numero ele deseja\n",
    "# ver a tabuada. A saída deve ser conforme o exemplo abaixo:\n",
    "\n",
    "multiplicador = range(1,10+1) \n",
    "tabuadaEscolhida = int(input('Informe qual nº da tabuada que você quer ver -> '))\n",
    "total = 0\n",
    "\n",
    "if tabuadaEscolhida >= 1 and tabuadaEscolhida <= 10:\n",
    "    print(f'\\n====TABOADA DO {tabuadaEscolhida}====')\n",
    "    for x in multiplicador:\n",
    "        total = tabuadaEscolhida * x\n",
    "        print(tabuadaEscolhida,' x ',x,' = ',total)\n",
    "else:\n",
    "    print(f'\\nValor fora da faiza de especificação. Digite um Nº entre 0 e 10!')\n",
    "    \n"
   ]
  },
  {
   "cell_type": "code",
   "execution_count": null,
   "id": "b4456ff0",
   "metadata": {},
   "outputs": [],
   "source": [
    "# Exercício 13 - Faça um programa que peça dois números, base e expoente, calcule e\n",
    "# mostre o primeiro número elevado ao segundo número. Não utilize a função de potência da linguagem.\n",
    "\n",
    "num1 = float(input('Digite o 1º número -> '))\n",
    "num2 = float(input('\\nDigite o 2º número -> '))\n",
    "\n",
    "total = num1 ** num2\n",
    "\n",
    "print('\\nO número [',num1,'] elevado à [',num2,'] = ',total)"
   ]
  },
  {
   "cell_type": "code",
   "execution_count": 18,
   "id": "c63ca30d",
   "metadata": {},
   "outputs": [
    {
     "name": "stdout",
     "output_type": "stream",
     "text": [
      "Digite o 1º número -> 1\n",
      "Digite o 2º número -> 2\n",
      "Digite o 3º número -> 3\n",
      "Digite o 4º número -> 4\n",
      "Digite o 5º número -> 5\n",
      "Digite o 6º número -> 6\n",
      "Digite o 7º número -> 7\n",
      "Digite o 8º número -> 8\n",
      "Digite o 9º número -> 9\n",
      "Digite o 10º número -> 10\n",
      "\n",
      "Os números digitados foram: [1, 2, 3, 4, 5, 6, 7, 8, 9, 10]\n",
      "\n",
      "Os números pares são: [2, 4, 6, 8, 10]\n",
      "\n",
      "Os números pares são: [1, 3, 5, 7, 9]\n"
     ]
    }
   ],
   "source": [
    "# Exercício 14 - Faça um programa que peça 10 números inteiros, calcule e mostre a\n",
    "# quantidade de números pares e a quantidade de números ímpares\n",
    "\n",
    "dezNumeros = range(1,10+1)\n",
    "pares=[]\n",
    "impares=[]\n",
    "numerosDigitados=[]\n",
    "\n",
    "for x in dezNumeros:\n",
    "    numerosDigitados.append(int(input(f'Digite o {x}º número -> ')))\n",
    "    if numerosDigitados[x-1] % 2 == 0:\n",
    "        pares.append(numerosDigitados[x-1])\n",
    "    else:\n",
    "        impares.append(numerosDigitados[x-1]) \n",
    "\n",
    "print('\\nTodos o nº digitados foram:',numerosDigitados)\n",
    "        \n",
    "print('\\nOs números pares são:',pares)\n",
    "\n",
    "print('\\nOs números pares são:',impares)\n",
    "\n",
    "\n",
    "\n",
    "\n",
    "\n"
   ]
  }
 ],
 "metadata": {
  "kernelspec": {
   "display_name": "Python 3 (ipykernel)",
   "language": "python",
   "name": "python3"
  },
  "language_info": {
   "codemirror_mode": {
    "name": "ipython",
    "version": 3
   },
   "file_extension": ".py",
   "mimetype": "text/x-python",
   "name": "python",
   "nbconvert_exporter": "python",
   "pygments_lexer": "ipython3",
   "version": "3.10.9"
  }
 },
 "nbformat": 4,
 "nbformat_minor": 5
}
